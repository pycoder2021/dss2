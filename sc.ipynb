{
 "cells": [
  {
   "cell_type": "code",
   "execution_count": 13,
   "id": "17520284",
   "metadata": {},
   "outputs": [
    {
     "name": "stdout",
     "output_type": "stream",
     "text": [
      "Union: [0.5, 0.57, 0.6]\n",
      "Intersection: [0.0, 0.1, 0.3]\n",
      "Complement of L: [1.0, 0.9, 0.7]\n",
      "Difference (L - M): [0.0, 0.1, 0.3]\n"
     ]
    }
   ],
   "source": [
    "class FuzzySet:\n",
    "    def __init__(self, values):\n",
    "        self.values = values\n",
    "        \n",
    "    def union(self, other):\n",
    "        union_values = [max(self.values[i], other.values[i]) for i in range(len(self.values))]\n",
    "        return FuzzySet(union_values)\n",
    "    \n",
    "    def intersection(self, other):\n",
    "        intersection_values = [min(self.values[i], other.values[i]) for i in range(len(self.values))]\n",
    "        return FuzzySet(intersection_values)\n",
    "    \n",
    "    def complement(self):\n",
    "        complement_values = [1 - self.values[i] for i in range(len(self.values))]\n",
    "        return FuzzySet(complement_values)\n",
    "    \n",
    "    def difference(self, other):\n",
    "        complement_other = other.complement()\n",
    "        difference_values = self.intersection(complement_other)\n",
    "        return difference_values\n",
    "    \n",
    "\n",
    "# Given fuzzy sets L and M\n",
    "L_values = [0.0, 0.1, 0.3]\n",
    "M_values = [0.5, 0.57, 0.6]\n",
    "\n",
    "L = FuzzySet(L_values)\n",
    "M = FuzzySet(M_values)\n",
    "\n",
    "# Union\n",
    "union_result = L.union(M)\n",
    "print(\"Union:\", union_result.values)\n",
    "\n",
    "# Intersection\n",
    "intersection_result = L.intersection(M)\n",
    "print(\"Intersection:\", intersection_result.values)\n",
    "\n",
    "# Complement of L\n",
    "complement_L = L.complement()\n",
    "print(\"Complement of L:\", complement_L.values)\n",
    "\n",
    "# Difference between L and M\n",
    "difference_result = L.difference(M)\n",
    "print(\"Difference (L - M):\", difference_result.values)\n"
   ]
  },
  {
   "cell_type": "code",
   "execution_count": null,
   "id": "9c60bbb8",
   "metadata": {},
   "outputs": [],
   "source": []
  }
 ],
 "metadata": {
  "kernelspec": {
   "display_name": "Python 3 (ipykernel)",
   "language": "python",
   "name": "python3"
  },
  "language_info": {
   "codemirror_mode": {
    "name": "ipython",
    "version": 3
   },
   "file_extension": ".py",
   "mimetype": "text/x-python",
   "name": "python",
   "nbconvert_exporter": "python",
   "pygments_lexer": "ipython3",
   "version": "3.9.12"
  }
 },
 "nbformat": 4,
 "nbformat_minor": 5
}
